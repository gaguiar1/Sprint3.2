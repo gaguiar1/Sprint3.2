{
 "cells": [
  {
   "cell_type": "code",
   "execution_count": 2,
   "id": "31d18b28",
   "metadata": {
    "ExecuteTime": {
     "end_time": "2021-10-06T15:17:15.160037Z",
     "start_time": "2021-10-06T15:17:14.486422Z"
    }
   },
   "outputs": [],
   "source": [
    "import numpy"
   ]
  },
  {
   "cell_type": "code",
   "execution_count": 3,
   "id": "6c35f31b",
   "metadata": {
    "ExecuteTime": {
     "end_time": "2021-10-06T15:17:17.032305Z",
     "start_time": "2021-10-06T15:17:17.026568Z"
    }
   },
   "outputs": [
    {
     "name": "stdout",
     "output_type": "stream",
     "text": [
      "[1 2 3 4 5]\n"
     ]
    }
   ],
   "source": [
    "arr = numpy.array([1, 2, 3, 4, 5])\n",
    "\n",
    "print(arr)\n"
   ]
  },
  {
   "cell_type": "code",
   "execution_count": 4,
   "id": "afd801b8",
   "metadata": {
    "ExecuteTime": {
     "end_time": "2021-10-06T15:17:57.542769Z",
     "start_time": "2021-10-06T15:17:57.538193Z"
    }
   },
   "outputs": [
    {
     "name": "stdout",
     "output_type": "stream",
     "text": [
      "1.20.1\n"
     ]
    }
   ],
   "source": [
    "import numpy as np\n",
    "\n",
    "print(np.__version__)\n"
   ]
  },
  {
   "cell_type": "code",
   "execution_count": 5,
   "id": "2c92191b",
   "metadata": {
    "ExecuteTime": {
     "end_time": "2021-10-06T15:18:26.221851Z",
     "start_time": "2021-10-06T15:18:26.202425Z"
    }
   },
   "outputs": [
    {
     "name": "stdout",
     "output_type": "stream",
     "text": [
      "[ 1  2  4  6  7  9 12 15]\n",
      "1\n"
     ]
    },
    {
     "data": {
      "text/plain": [
       "(8,)"
      ]
     },
     "execution_count": 5,
     "metadata": {},
     "output_type": "execute_result"
    }
   ],
   "source": [
    "#Nivel 1 - Exercici 1 - Crea un np.array d'una dimensió, que inclogui \n",
    "#l'almenys 8 nombres sencers, data type int64. Mostra la dimensió i la forma de la matriu.\n",
    "import numpy as np\n",
    "\n",
    "arr = np.array([1, 2, 4, 6, 7, 9, 12, 15], dtype = \"int64\")\n",
    "\n",
    "print(arr)\n",
    "\n",
    "print(arr.ndim)\n",
    "\n",
    "arr.shape"
   ]
  },
  {
   "cell_type": "code",
   "execution_count": 6,
   "id": "3afed7db",
   "metadata": {
    "ExecuteTime": {
     "end_time": "2021-10-06T15:18:47.706399Z",
     "start_time": "2021-10-06T15:18:47.700226Z"
    }
   },
   "outputs": [
    {
     "data": {
      "text/plain": [
       "7.0"
      ]
     },
     "execution_count": 6,
     "metadata": {},
     "output_type": "execute_result"
    }
   ],
   "source": [
    "# Nivel 1 - Exercici 2 \n",
    "#De la matriu de l'exercici 1, calcula el valor mitjà dels valors \n",
    "#introduïts i resta la mitjana resultant de cada un dels valors de la matriu.\n",
    "\n",
    "np.mean(arr)"
   ]
  },
  {
   "cell_type": "code",
   "execution_count": 7,
   "id": "261968f7",
   "metadata": {
    "ExecuteTime": {
     "end_time": "2021-10-06T15:19:02.944086Z",
     "start_time": "2021-10-06T15:19:02.938172Z"
    }
   },
   "outputs": [
    {
     "name": "stdout",
     "output_type": "stream",
     "text": [
      "6.5\n"
     ]
    }
   ],
   "source": [
    "mediana = np.percentile(arr, 50)\n",
    "print(mediana)"
   ]
  },
  {
   "cell_type": "code",
   "execution_count": 8,
   "id": "cbdfd347",
   "metadata": {
    "ExecuteTime": {
     "end_time": "2021-10-06T15:19:16.250099Z",
     "start_time": "2021-10-06T15:19:16.242148Z"
    }
   },
   "outputs": [
    {
     "data": {
      "text/plain": [
       "array([-5.5, -4.5, -2.5, -0.5,  0.5,  2.5,  5.5,  8.5])"
      ]
     },
     "execution_count": 8,
     "metadata": {},
     "output_type": "execute_result"
    }
   ],
   "source": [
    "arr - np.median(arr)"
   ]
  },
  {
   "cell_type": "code",
   "execution_count": 9,
   "id": "90670b4b",
   "metadata": {
    "ExecuteTime": {
     "end_time": "2021-10-06T15:19:32.513605Z",
     "start_time": "2021-10-06T15:19:32.506046Z"
    }
   },
   "outputs": [
    {
     "data": {
      "text/plain": [
       "65"
      ]
     },
     "execution_count": 9,
     "metadata": {},
     "output_type": "execute_result"
    }
   ],
   "source": [
    "# Nivel 1 - Exercici 3\n",
    "#Crea una matriu bidimensional amb una forma de 5 x 5. \n",
    "#Extreu el valor màxim de la matriu, i els valors màxims de cadascun dels seus eixos\n",
    "\n",
    "arr = ([[5, 3, 12, 43, 65], [23, 43, 11, 7, 64]])\n",
    "np.amax(arr)"
   ]
  },
  {
   "cell_type": "code",
   "execution_count": 10,
   "id": "669d7e85",
   "metadata": {
    "ExecuteTime": {
     "end_time": "2021-10-06T15:19:50.065052Z",
     "start_time": "2021-10-06T15:19:50.057929Z"
    }
   },
   "outputs": [
    {
     "name": "stdout",
     "output_type": "stream",
     "text": [
      "[[1 2]\n",
      " [3 4]\n",
      " [5 6]\n",
      " [7 8]]\n"
     ]
    }
   ],
   "source": [
    "#Nivel 1 - Exercici 4\n",
    "#Mostreu-me amb exemples de diferents matrius, la regla fonamental de Broadcasting que diu : \"les matrius es poden \n",
    "#transmetre / broadcast si les seves dimensions coincideixen o si una de les matrius té una mida d'1\".\n",
    "\n",
    "matriz1 = np.arange(1, 9).reshape(4,2)\n",
    "\n",
    "print(matriz1)\n"
   ]
  },
  {
   "cell_type": "code",
   "execution_count": 11,
   "id": "69673dbf",
   "metadata": {
    "ExecuteTime": {
     "end_time": "2021-10-06T15:20:06.119255Z",
     "start_time": "2021-10-06T15:20:06.110990Z"
    }
   },
   "outputs": [
    {
     "data": {
      "text/plain": [
       "(array([[1, 2],\n",
       "        [3, 4],\n",
       "        [5, 6],\n",
       "        [7, 8]]),\n",
       " array([[ 3.        ,  6.28571429],\n",
       "        [ 9.57142857, 12.85714286],\n",
       "        [16.14285714, 19.42857143],\n",
       "        [22.71428571, 26.        ]]))"
      ]
     },
     "execution_count": 11,
     "metadata": {},
     "output_type": "execute_result"
    }
   ],
   "source": [
    "matriz2 = np.linspace(3, 26, 8).reshape(4, 2)\n",
    "matriz1, matriz2\n"
   ]
  },
  {
   "cell_type": "code",
   "execution_count": 12,
   "id": "7941297e",
   "metadata": {
    "ExecuteTime": {
     "end_time": "2021-10-06T15:20:21.403955Z",
     "start_time": "2021-10-06T15:20:21.397878Z"
    }
   },
   "outputs": [
    {
     "data": {
      "text/plain": [
       "array([[  3.        ,  12.57142857],\n",
       "       [ 28.71428571,  51.42857143],\n",
       "       [ 80.71428571, 116.57142857],\n",
       "       [159.        , 208.        ]])"
      ]
     },
     "execution_count": 12,
     "metadata": {},
     "output_type": "execute_result"
    }
   ],
   "source": [
    "matriz2 * matriz1"
   ]
  },
  {
   "cell_type": "code",
   "execution_count": 13,
   "id": "099cf377",
   "metadata": {
    "ExecuteTime": {
     "end_time": "2021-10-06T15:21:08.613016Z",
     "start_time": "2021-10-06T15:21:08.605851Z"
    }
   },
   "outputs": [
    {
     "data": {
      "text/plain": [
       "(array([[1, 2],\n",
       "        [3, 4],\n",
       "        [5, 6],\n",
       "        [7, 8]]),\n",
       " array([[ 4.        ],\n",
       "        [ 9.33333333],\n",
       "        [14.66666667],\n",
       "        [20.        ]]))"
      ]
     },
     "execution_count": 13,
     "metadata": {},
     "output_type": "execute_result"
    }
   ],
   "source": [
    "\n",
    "matriz2 = np.linspace(4, 20, 4).reshape(4,1)\n",
    "matriz1, matriz2\n"
   ]
  },
  {
   "cell_type": "code",
   "execution_count": 14,
   "id": "4c25eb07",
   "metadata": {
    "ExecuteTime": {
     "end_time": "2021-10-06T15:21:24.361962Z",
     "start_time": "2021-10-06T15:21:24.355779Z"
    }
   },
   "outputs": [
    {
     "data": {
      "text/plain": [
       "array([[4.        , 2.        ],\n",
       "       [3.11111111, 2.33333333],\n",
       "       [2.93333333, 2.44444444],\n",
       "       [2.85714286, 2.5       ]])"
      ]
     },
     "execution_count": 14,
     "metadata": {},
     "output_type": "execute_result"
    }
   ],
   "source": [
    "matriz2/matriz1"
   ]
  },
  {
   "cell_type": "code",
   "execution_count": 15,
   "id": "e80cea98",
   "metadata": {
    "ExecuteTime": {
     "end_time": "2021-10-06T15:21:39.225011Z",
     "start_time": "2021-10-06T15:21:39.218189Z"
    }
   },
   "outputs": [
    {
     "data": {
      "text/plain": [
       "(array([[1, 2],\n",
       "        [3, 4],\n",
       "        [5, 6],\n",
       "        [7, 8]]),\n",
       " array([[[3]]]))"
      ]
     },
     "execution_count": 15,
     "metadata": {},
     "output_type": "execute_result"
    }
   ],
   "source": [
    "#matriu2 de mida d'1 (amb dos dimensions)\n",
    "matriz2 = np.array([[[3]]])\n",
    "matriz1, matriz2"
   ]
  },
  {
   "cell_type": "code",
   "execution_count": 16,
   "id": "5c73bf7e",
   "metadata": {
    "ExecuteTime": {
     "end_time": "2021-10-06T15:21:51.478203Z",
     "start_time": "2021-10-06T15:21:51.472627Z"
    }
   },
   "outputs": [
    {
     "data": {
      "text/plain": [
       "array([[[ 4,  5],\n",
       "        [ 6,  7],\n",
       "        [ 8,  9],\n",
       "        [10, 11]]])"
      ]
     },
     "execution_count": 16,
     "metadata": {},
     "output_type": "execute_result"
    }
   ],
   "source": [
    "matriz2 + matriz1"
   ]
  },
  {
   "cell_type": "code",
   "execution_count": 17,
   "id": "261c38dc",
   "metadata": {
    "ExecuteTime": {
     "end_time": "2021-10-06T15:23:22.138527Z",
     "start_time": "2021-10-06T15:23:22.120134Z"
    }
   },
   "outputs": [
    {
     "data": {
      "text/plain": [
       "array([[1, 2, 3],\n",
       "       [4, 5, 6],\n",
       "       [7, 8, 9]])"
      ]
     },
     "execution_count": 17,
     "metadata": {},
     "output_type": "execute_result"
    }
   ],
   "source": [
    "#Utilitza la Indexació per extreure els valors d'una columna i una fila de la matriu. I suma els seus valors\n",
    "matriz = np.arange(1, 10).reshape(3,3)\n",
    "matriz"
   ]
  },
  {
   "cell_type": "code",
   "execution_count": 18,
   "id": "dca509e8",
   "metadata": {
    "ExecuteTime": {
     "end_time": "2021-10-06T15:23:41.662431Z",
     "start_time": "2021-10-06T15:23:41.653978Z"
    }
   },
   "outputs": [
    {
     "data": {
      "text/plain": [
       "array([ 8, 12, 16])"
      ]
     },
     "execution_count": 18,
     "metadata": {},
     "output_type": "execute_result"
    }
   ],
   "source": [
    "columna1 = matriz[:, 0]\n",
    "fila3 = matriz[2, :]\n",
    "columna1 + fila3"
   ]
  },
  {
   "cell_type": "code",
   "execution_count": 19,
   "id": "fb7b8b83",
   "metadata": {
    "ExecuteTime": {
     "end_time": "2021-10-06T15:23:59.840669Z",
     "start_time": "2021-10-06T15:23:59.832485Z"
    }
   },
   "outputs": [
    {
     "data": {
      "text/plain": [
       "array([[False, False, False],\n",
       "       [ True, False, False],\n",
       "       [False,  True, False]])"
      ]
     },
     "execution_count": 19,
     "metadata": {},
     "output_type": "execute_result"
    }
   ],
   "source": [
    "#Mask la matriu anterior, realitzeu un càlcul booleà vectoritzat, agafant cada element i comprovant si es divideix uniformement per quatre.\n",
    "#Això retorna una matriu de mask de la mateixa forma amb els resultats elementals del càlcul.\n",
    "\n",
    "mask = (matriz % 4 == 0)\n",
    "mask"
   ]
  },
  {
   "cell_type": "code",
   "execution_count": 20,
   "id": "1ca2d760",
   "metadata": {
    "ExecuteTime": {
     "end_time": "2021-10-06T15:24:19.429450Z",
     "start_time": "2021-10-06T15:24:19.423464Z"
    }
   },
   "outputs": [
    {
     "data": {
      "text/plain": [
       "array([4, 8])"
      ]
     },
     "execution_count": 20,
     "metadata": {},
     "output_type": "execute_result"
    }
   ],
   "source": [
    "#A continuació, utilitzeu aquesta màscara per indexar a la matriu de números original. \n",
    "#Això fa que la matriu perdi la seva forma original, reduint-la a una dimensió, però encara obteniu les dades que esteu cercant\n",
    "\n",
    "matriz[mask]"
   ]
  },
  {
   "cell_type": "code",
   "execution_count": 21,
   "id": "6c5b6def",
   "metadata": {
    "ExecuteTime": {
     "end_time": "2021-10-06T15:25:39.465949Z",
     "start_time": "2021-10-06T15:25:38.973768Z"
    }
   },
   "outputs": [],
   "source": [
    "import matplotlib.pyplot as plt\n",
    "import matplotlib.image as mpimg\n"
   ]
  },
  {
   "cell_type": "code",
   "execution_count": 22,
   "id": "74cb84e9",
   "metadata": {
    "ExecuteTime": {
     "end_time": "2021-10-06T15:26:51.166733Z",
     "start_time": "2021-10-06T15:26:51.105940Z"
    }
   },
   "outputs": [
    {
     "data": {
      "text/plain": [
       "((879, 850, 4), dtype('float32'))"
      ]
     },
     "execution_count": 22,
     "metadata": {},
     "output_type": "execute_result"
    }
   ],
   "source": [
    "img = mpimg.imread('Map-of-Africa-showing-colonies-after-the-Berlin-conference-of-1884 (1).png')\n",
    "img.shape, img.dtype"
   ]
  },
  {
   "cell_type": "code",
   "execution_count": 23,
   "id": "f27bb9ef",
   "metadata": {
    "ExecuteTime": {
     "end_time": "2021-10-06T15:27:11.813068Z",
     "start_time": "2021-10-06T15:27:11.227902Z"
    }
   },
   "outputs": [
    {
     "data": {
      "image/png": "[encoded data removed]",
      "text/plain": [
       "<Figure size 432x288 with 1 Axes>"
      ]
     },
     "metadata": {
      "needs_background": "light"
     },
     "output_type": "display_data"
    }
   ],
   "source": [
    "imgplot = plt.imshow(img)\n"
   ]
  },
  {
   "cell_type": "code",
   "execution_count": 24,
   "id": "1926a5bb",
   "metadata": {
    "ExecuteTime": {
     "end_time": "2021-10-06T15:27:53.010608Z",
     "start_time": "2021-10-06T15:27:53.000528Z"
    }
   },
   "outputs": [],
   "source": [
    "#Mostreu-me a veure què passa quan eliminem el canal G Verd o B Blau. \n",
    "#Hauries d'utilitzar la indexació per seleccionar el canal que voleu anul·lar.\n",
    "\n",
    "img_modif = img.copy()\n",
    "\n",
    "img_modif[:,:,1]=0\n",
    "\n"
   ]
  },
  {
   "cell_type": "code",
   "execution_count": 26,
   "id": "ac2ccd07",
   "metadata": {
    "ExecuteTime": {
     "end_time": "2021-10-06T15:29:16.257273Z",
     "start_time": "2021-10-06T15:29:15.904331Z"
    }
   },
   "outputs": [
    {
     "data": {
      "image/png": "[encoded data removed]",
      "text/plain": [
       "<Figure size 432x288 with 1 Axes>"
      ]
     },
     "metadata": {
      "needs_background": "light"
     },
     "output_type": "display_data"
    }
   ],
   "source": [
    "imgplot = plt.imshow(img_modif)\n"
   ]
  },
  {
   "cell_type": "code",
   "execution_count": null,
   "id": "5fb2f8e8",
   "metadata": {},
   "outputs": [],
   "source": []
  }
 ],
 "metadata": {
  "kernelspec": {
   "display_name": "Python 3",
   "language": "python",
   "name": "python3"
  },
  "language_info": {
   "codemirror_mode": {
    "name": "ipython",
    "version": 3
   },
   "file_extension": ".py",
   "mimetype": "text/x-python",
   "name": "python",
   "nbconvert_exporter": "python",
   "pygments_lexer": "ipython3",
   "version": "3.8.8"
  }
 },
 "nbformat": 4,
 "nbformat_minor": 5
}
